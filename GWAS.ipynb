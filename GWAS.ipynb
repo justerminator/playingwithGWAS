{
 "cells": [
  {
   "cell_type": "code",
   "execution_count": 1,
   "id": "70808cb1",
   "metadata": {},
   "outputs": [],
   "source": [
    "#imports\n",
    "import openpyxl\n",
    "from openpyxl.cell import Cell\n",
    "import numpy as np\n",
    "import matplotlib.pyplot as plt"
   ]
  },
  {
   "cell_type": "code",
   "execution_count": 2,
   "id": "73bf0543",
   "metadata": {},
   "outputs": [],
   "source": [
    "PATH = \"C:/Users/Andre/projects/gwas/playingwithGWAS/BSB273EC10HSOXYLGA12_output (1).xlsx\"\n",
    "\n",
    "# open workbook\n",
    "wb_obj = openpyxl.load_workbook(PATH)\n",
    "\n",
    "# get active sheet object\n",
    "sheet_obj = wb_obj.active"
   ]
  },
  {
   "cell_type": "code",
   "execution_count": 8,
   "id": "71dcb933",
   "metadata": {},
   "outputs": [],
   "source": [
    "# Examining M1072 rewards (in 1st and last hour)\n",
    "column = 5\n",
    "rowStart = 4017\n",
    "rowEnd = 4138\n",
    "\n",
    "rewards_hr1 = []\n",
    "rewards_fl = []\n",
    " \n",
    "for stamp in range(rowStart, rowEnd):\n",
    "    \n",
    "    if (sheet_obj.cell(stamp, column).value) < 3600:\n",
    "        rewards_hr1.append(sheet_obj.cell(stamp, column).value)\n",
    "        \n",
    "    elif 39600 < (sheet_obj.cell(stamp, column).value) < 43200:\n",
    "        rewards_fl.append(sheet_obj.cell(stamp, column).value)\n",
    "        \n",
    "    else: \n",
    "        break\n",
    "        \n",
    "        \n",
    "num_rewhr1 = len(rewards_hr1)\n",
    "num_rewfl = len(rewards_fl)              "
   ]
  },
  {
   "cell_type": "code",
   "execution_count": 9,
   "id": "d52ff57c",
   "metadata": {},
   "outputs": [],
   "source": [
    "# Examining M1072 timeout presses (in 1st, last hour and maintenance phase 4hr)\n",
    "column = 5\n",
    "rowStart = 4218\n",
    "rowEnd = 4331\n",
    "\n",
    "timeout_hr1 = []\n",
    "timeout_fl = []\n",
    "timeout_mt = []\n",
    " \n",
    "for stamp in range(rowStart, rowEnd):\n",
    "    \n",
    "    if int(sheet_obj.cell(stamp, column).value) < 3600:\n",
    "        timeout_hr1.append(sheet_obj.cell(stamp, column).value)\n",
    "        \n",
    "    elif 39600 < int(sheet_obj.cell(stamp, column).value) < 43200:\n",
    "        timeout_fl.append(sheet_obj.cell(stamp, column).value)\n",
    "        \n",
    "        #if 39600 < int(sheet_obj.cell(stamp, column).value) < 43200:\n",
    "        # elif 28800 < int(sheet_obj.cell(stamp, column).value) < 43200:\n",
    "         #   timeout_mt.append(sheet_obj.cell(stamp, column).value)\n",
    "        #else:\n",
    "        #    continue\n",
    "            \n",
    "    else: \n",
    "        break\n",
    "        \n",
    "        \n",
    "num_tohr1 = len(timeout_hr1)\n",
    "num_tofl = len(timeout_fl)             \n",
    "num_tomt = len(timeout_mt)"
   ]
  },
  {
   "cell_type": "code",
   "execution_count": 18,
   "id": "16f1a1fa",
   "metadata": {},
   "outputs": [
    {
     "data": {
      "image/png": "[encoded data removed]",
      "text/plain": [
       "<Figure size 432x288 with 1 Axes>"
      ]
     },
     "metadata": {},
     "output_type": "display_data"
    },
    {
     "data": {
      "text/plain": [
       "<Figure size 432x288 with 0 Axes>"
      ]
     },
     "metadata": {},
     "output_type": "display_data"
    }
   ],
   "source": [
    "plt.style.use(\"ggplot\")\n",
    "n = 2\n",
    "rewards = (num_rewhr1, num_rewfl)\n",
    "timeout = (num_tohr1, num_tofl)\n",
    "fig, ax = plt.subplots()\n",
    "index = np.arange(n)\n",
    "bar_width = 0.30\n",
    "\n",
    "ax.bar(index, rewards, bar_width, color = '#6c757d', label = \"Rewards\")\n",
    "ax.bar(index+bar_width, timeout, bar_width, color = '#adb5bd', label = \"Timeout\")\n",
    "\n",
    "ax.set_xlabel(\"Period\")\n",
    "ax.set_ylabel(\"Number of presses\")\n",
    "ax.set_xticks(index + bar_width / 2)\n",
    "ax.set_xticklabels((\"1st Hour\", \"Last Hour\"))\n",
    "plt.suptitle(\"BSB273EC10HSOXYLGA12 - M1072\", color = \"#6c757d\")\n",
    "plt.title(\"Total rewards in 1st hour vs. last hour of LA\")\n",
    "\n",
    "ax.legend()\n",
    "plt.show()\n",
    "\n",
    "plt.savefig('oxy1hour_vs_last.png', dpi = 100)\n",
    "plt.show()"
   ]
  },
  {
   "cell_type": "code",
   "execution_count": 4,
   "id": "e6a9d77e",
   "metadata": {},
   "outputs": [],
   "source": [
    "# Examining M1072 rewards (in 1st and maintenance)\n",
    "column = 5\n",
    "rowStart = 4017\n",
    "rowEnd = 4138\n",
    "\n",
    "rewards_hr1 = []\n",
    "rewards_mt = []\n",
    " \n",
    "for stamp in range(rowStart, rowEnd):\n",
    "    \n",
    "    if (sheet_obj.cell(stamp, column).value) < 3600:\n",
    "        rewards_hr1.append(sheet_obj.cell(stamp, column).value)\n",
    "        \n",
    "    elif 28800 < int(sheet_obj.cell(stamp, column).value) < 43200:\n",
    "        rewards_mt.append(sheet_obj.cell(stamp, column).value)\n",
    "        \n",
    "    else: \n",
    "        break\n",
    "        \n",
    "        \n",
    "num_rewhr1 = len(rewards_hr1)\n",
    "num_rewmt = len(rewards_mt) \n"
   ]
  },
  {
   "cell_type": "code",
   "execution_count": 5,
   "id": "f4993351",
   "metadata": {},
   "outputs": [
    {
     "data": {
      "text/plain": [
       "0"
      ]
     },
     "execution_count": 5,
     "metadata": {},
     "output_type": "execute_result"
    }
   ],
   "source": [
    "num_rewmt"
   ]
  },
  {
   "cell_type": "code",
   "execution_count": 22,
   "id": "e33c0a6b",
   "metadata": {},
   "outputs": [
    {
     "name": "stdout",
     "output_type": "stream",
     "text": [
      "29123\n",
      "29299\n",
      "29468\n",
      "29641\n",
      "30316\n",
      "30343\n",
      "30591\n",
      "30979\n",
      "31008\n",
      "31826\n",
      "31848\n",
      "32059\n",
      "32254\n",
      "33058\n",
      "33084\n",
      "33311\n",
      "33832\n",
      "33853\n",
      "34024\n",
      "35338\n",
      "35371\n"
     ]
    }
   ],
   "source": [
    "rowStart = 4017\n",
    "rowEnd = 4138\n",
    "\n",
    "for stamp in range(rowStart, rowEnd):\n",
    "    if 28800 < (sheet_obj.cell(stamp, column).value) < 43200:\n",
    "        print(sheet_obj.cell(stamp, column).value)\n",
    "        \n",
    "    else:\n",
    "        continue"
   ]
  },
  {
   "cell_type": "code",
   "execution_count": null,
   "id": "cdc92e5b",
   "metadata": {},
   "outputs": [],
   "source": []
  }
 ],
 "metadata": {
  "kernelspec": {
   "display_name": "gwas",
   "language": "python",
   "name": "gwas"
  },
  "language_info": {
   "codemirror_mode": {
    "name": "ipython",
    "version": 3
   },
   "file_extension": ".py",
   "mimetype": "text/x-python",
   "name": "python",
   "nbconvert_exporter": "python",
   "pygments_lexer": "ipython3",
   "version": "3.9.12"
  }
 },
 "nbformat": 4,
 "nbformat_minor": 5
}
